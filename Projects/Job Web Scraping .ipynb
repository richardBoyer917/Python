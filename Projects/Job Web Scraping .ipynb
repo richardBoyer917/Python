{
 "cells": [
  {
   "cell_type": "code",
   "execution_count": 1,
   "metadata": {},
   "outputs": [],
   "source": [
    "# import module \n",
    "import requests \n",
    "import pandas as pd \n",
    "from bs4 import BeautifulSoup \n",
    "from tkinter import *\n",
    "from tkinter import messagebox \n",
    "  \n",
    "res = [] \n",
    "def getdata(url): \n",
    "    r = requests.get(url) \n",
    "    return r.text \n",
    "def getinfo(): \n",
    "    result = '' \n",
    "    htmldata = getdata(\"https://www.sarkariresult.com/latestjob.php\") \n",
    "    soup = BeautifulSoup(htmldata, 'html.parser') \n",
    "      \n",
    "    for li in soup.find_all(\"div\", id=\"post\"): \n",
    "        result += (li.get_text()) \n",
    "    res.set(result) \n",
    "  \n",
    "  \n",
    "# object of tkinter \n",
    "# and background set for light grey \n",
    "master = Tk() \n",
    "master.configure(bg='light grey') \n",
    "  \n",
    "# Variable Classes in tkinter \n",
    "res = StringVar() \n",
    "  \n",
    "# Creating label for each information \n",
    "# name using widget Label \n",
    "Label(master, text=\"List of the Jobs :\", \n",
    "      bg=\"light grey\", font=\"100\").grid(row=0, sticky=W) \n",
    "  \n",
    "# Creating lebel for class variable \n",
    "# name using widget Entry \n",
    "Label(master, text=\"\", textvariable=res, bg=\"light grey\").grid( \n",
    "    row=3, column=1, sticky=W) \n",
    "  \n",
    "# creating a button using the widget \n",
    "# Button that will call the submit function \n",
    "b = Button(master, text=\"Get latest job\", command=getinfo) \n",
    "b.grid(row=0, column=2, columnspan=2, rowspan=2, padx=5, pady=5) \n",
    "  \n",
    "mainloop()"
   ]
  },
  {
   "cell_type": "code",
   "execution_count": null,
   "metadata": {},
   "outputs": [],
   "source": []
  },
  {
   "cell_type": "code",
   "execution_count": null,
   "metadata": {},
   "outputs": [],
   "source": []
  },
  {
   "cell_type": "code",
   "execution_count": null,
   "metadata": {},
   "outputs": [],
   "source": []
  }
 ],
 "metadata": {
  "kernelspec": {
   "display_name": "Python 3",
   "language": "python",
   "name": "python3"
  },
  "language_info": {
   "codemirror_mode": {
    "name": "ipython",
    "version": 3
   },
   "file_extension": ".py",
   "mimetype": "text/x-python",
   "name": "python",
   "nbconvert_exporter": "python",
   "pygments_lexer": "ipython3",
   "version": "3.8.3"
  }
 },
 "nbformat": 4,
 "nbformat_minor": 2
}
